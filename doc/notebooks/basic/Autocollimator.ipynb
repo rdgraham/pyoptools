{
 "cells": [
  {
   "cell_type": "markdown",
   "metadata": {},
   "source": [
    "## A more complex example\n",
    "\n",
    "In this example we will simulate a simple [autocolimator](https://en.wikipedia.org/wiki/Autocollimator) system.\n",
    "\n",
    "The autocolimator system will be made of a point source (**R**), a beam splitting cube (**BS**), a colimator lens (**L**), and a CCD (**C**).\n",
    "\n",
    "In this first example, this will be used to check if a mirror (**M1**) is parallel to the optical axis.\n"
   ]
  },
  {
   "cell_type": "code",
   "execution_count": 1,
   "metadata": {},
   "outputs": [
    {
     "name": "stdout",
     "output_type": "stream",
     "text": [
      "Loading component library Edmund  from files  ['/home/rdg/repos/pyoptools/pyoptools/raytrace/library/Edmund/edmund_spherical.cmp']\n",
      "Loading component library Thorlabs  from files  ['/home/rdg/repos/pyoptools/pyoptools/raytrace/library/Thorlabs/thorlabs_cylindrical.cmp', '/home/rdg/repos/pyoptools/pyoptools/raytrace/library/Thorlabs/thorlabs_spherical.cmp']\n"
     ]
    }
   ],
   "source": [
    "from pyoptools.all import *\n",
    "from numpy import pi"
   ]
  },
  {
   "cell_type": "code",
   "execution_count": 2,
   "metadata": {},
   "outputs": [],
   "source": [
    "R=point_source_c(span=(0.06,0.06),num_rays=(5,5),wavelength=.65)\n",
    "BS=BeamSplittingCube(size=25,reflectivity=.5,material=material.schott[\"N-BK7\"])\n",
    "L=library.Edmund.get(\"32494\")\n",
    "C=CCD()\n",
    "M1= RectMirror(size=(25, 25, 5),material=material.schott[\"N-BK7\"], reflectivity=1.)\n",
    "\n",
    "S=System(complist=[(C,(20,0,20),(0,pi/2,0)),(BS,(0,0,20),(0,0,0)),(L,(0,0,158.5),(0,-pi,0)),(M1,(0,0,170),(0,0,0))],n=1.)\n",
    "\n",
    "\n",
    "S.ray_add(R)\n",
    "S.propagate()"
   ]
  },
  {
   "cell_type": "code",
   "execution_count": 3,
   "metadata": {},
   "outputs": [
    {
     "name": "stderr",
     "output_type": "stream",
     "text": [
      "/home/rdg/.local/lib/python3.9/site-packages/jupyter_client/session.py:716: UserWarning: Message serialization failed with:\n",
      "Out of range float values are not JSON compliant\n",
      "Supporting this message is deprecated in jupyter-client 7, please make sure your message is JSON-compliant\n",
      "  content = self.pack(content)\n"
     ]
    },
    {
     "data": {
      "application/vnd.jupyter.widget-view+json": {
       "model_id": "e81ed9e652b4472ab3dcda1f8016f7e2",
       "version_major": 2,
       "version_minor": 0
      },
      "text/plain": [
       "Renderer(camera=OrthographicCamera(bottom=-100.0, children=(DirectionalLight(intensity=0.7, position=(0.0, 100…"
      ]
     },
     "metadata": {},
     "output_type": "display_data"
    }
   ],
   "source": [
    "Plot3D(S,center=(0,0,300), size=(600,100),scale=2,rot=[(0,0,-3*pi/8),(0,3*pi/8,0)])"
   ]
  },
  {
   "cell_type": "markdown",
   "metadata": {},
   "source": [
    "In this example, the ray trace proceesd as follow:\n",
    "\n",
    "1. 25 rays come out from a the point source (**R**) \n",
    "2. They enter the beam splitting cube (**BS**), and propagate to the **BS** reflective surface. In the first interfase of **BS** the rays get diffracted.\n",
    "3. In the reflective surface, the original rays continue propagating, and a new set of rays (reflected) get created.\n",
    "4. The set of reflected rays get propagated out of the cube, and do not get propagated anymore as there are no optical components they can intersect.\n",
    "5. The transmitted rays get propagated out of the cube, until they intersect the lens (**L**).\n",
    "6. The rays get propagated through the lens. At each lens surface, the rays get refracted taking in to account the incidence angle, and the refraction index at each side of the surface. **Note:** This happens at all surface intersection, at all components.\n",
    "7. The rays get propagated until they hit the reflective surface at the mirror, and bounce back, propagating again in the lens direction.\n",
    "8. The rays get propagated through the lens and into the **BS**.\n",
    "9. In the reflective surface of the **BS** a new set of reflected rays get created, and are propagated in the **CCD** direction.\n",
    "10. the transmitted rays get propagated out of the **BS** and overlap the point source.\n",
    "\n",
    "From the interactive raytrace plot, one can get an idea about what is going on, but most of the time we need to see how the ray intersect a surface. In this case, we can get an spot diagram from the **CCD** as shown in the next plot.\n"
   ]
  },
  {
   "cell_type": "code",
   "execution_count": 4,
   "metadata": {},
   "outputs": [
    {
     "name": "stdout",
     "output_type": "stream",
     "text": [
      "Populating the interactive namespace from numpy and matplotlib\n"
     ]
    },
    {
     "name": "stderr",
     "output_type": "stream",
     "text": [
      "/home/rdg/.local/lib/python3.9/site-packages/IPython/core/magics/pylab.py:159: UserWarning: pylab import has clobbered these variables: ['Polygon', 'unwrap', 'sqrt', 'cross']\n",
      "`%matplotlib` prevents importing * from pylab and numpy\n",
      "  warn(\"pylab import has clobbered these variables: %s\"  % clobbered +\n"
     ]
    },
    {
     "data": {
      "image/png": "[encoded data removed]",
      "text/plain": [
       "<Figure size 432x288 with 1 Axes>"
      ]
     },
     "metadata": {
      "needs_background": "light"
     },
     "output_type": "display_data"
    }
   ],
   "source": [
    "%pylab inline\n",
    "spot_diagram(C)"
   ]
  },
  {
   "cell_type": "markdown",
   "metadata": {},
   "source": [
    "If the lens was ideal, and the distance between the lens and the point source was adequatelly adjusted, the spot diagram would show all the 25 rays hitting at exact the same coordinates in the **CCD**. But as we are simulating a \"real\" doublet, we have a cube that introduces some spherical aberration in the path, and the distance was optimized in .5 mm steps, we get a spot in the CCD that is about 20 um in diameter, but as expected the center of such spot is the (0mm, 0mm) coordinate f the **CCD**.\n",
    "\n",
    "In the next example the mirror will be tilted 10 urads"
   ]
  },
  {
   "cell_type": "code",
   "execution_count": 5,
   "metadata": {},
   "outputs": [
    {
     "data": {
      "image/png": "[encoded data removed]",
      "text/plain": [
       "<Figure size 432x288 with 1 Axes>"
      ]
     },
     "metadata": {
      "needs_background": "light"
     },
     "output_type": "display_data"
    }
   ],
   "source": [
    "R=point_source_c(span=(0.06,0.06),num_rays=(5,5),wavelength=.65)\n",
    "BS=BeamSplittingCube(size=25,reflectivity=.5,material=material.schott[\"N-BK7\"])\n",
    "L=library.Edmund.get(\"32494\")\n",
    "C=CCD()\n",
    "M1= RectMirror(size=(25, 25, 5),material=material.schott[\"N-BK7\"], reflectivity=1.)\n",
    "\n",
    "S=System(complist=[(C,(20,0,20),(0,pi/2,0)),(BS,(0,0,20),(0,0,0)),(L,(0,0,158.5),(0,-pi,0)),(M1,(0,0,170),(10.E-6,0,0))],n=1.)\n",
    "\n",
    "\n",
    "S.ray_add(R)\n",
    "S.propagate()\n",
    "\n",
    "spot_diagram(C)"
   ]
  },
  {
   "cell_type": "markdown",
   "metadata": {},
   "source": [
    "In this case we see that the spot is hitting the CCD approximatelly at (0mm, 0.0025 mm).\n",
    "\n",
    "Some times getting an approximate position of the center of the spot from a plot is not enough. In such cases we can use the [hit_list](../../pyoptools.raytrace.comp_lib.rst#pyoptools.raytrace.comp_lib.CCD.hit_list) property from the **CCD**. From this list we can get the intersection point of each ray and for example use the average in X and in Y to estimate the spot centroid position."
   ]
  },
  {
   "cell_type": "code",
   "execution_count": 6,
   "metadata": {},
   "outputs": [
    {
     "name": "stdout",
     "output_type": "stream",
     "text": [
      "CMX 5.115491363838487e-15 CMY 0.002998219837423476\n"
     ]
    }
   ],
   "source": [
    "cx=0.\n",
    "cy=0.\n",
    "\n",
    "for c,r in C.hit_list:\n",
    "    cx=cx+c[0]\n",
    "    cy=cy+c[1]\n",
    "    \n",
    "cx=cx/25\n",
    "cy=cy/25\n",
    "\n",
    "print(\"CMX\",cx,\"CMY\",cy)"
   ]
  },
  {
   "cell_type": "markdown",
   "metadata": {},
   "source": [
    "In this case, the resulting spot diagram is similar to the previous one, but we can see the central spot is not located at the origin of the **CCD** anymore, but at the coordinate (0 mm, 0.003 mm)"
   ]
  },
  {
   "cell_type": "markdown",
   "metadata": {},
   "source": [
    "In the ideal case, taking in to account the reported focal length of the lens, and the tilting of the mirror, the coorditates of the point should be"
   ]
  },
  {
   "cell_type": "code",
   "execution_count": 7,
   "metadata": {},
   "outputs": [
    {
     "name": "stdout",
     "output_type": "stream",
     "text": [
      "CMY-Estimated 0.003\n"
     ]
    }
   ],
   "source": [
    "f=150.\n",
    "alpha=10e-6\n",
    "cy_=f*2.*alpha\n",
    "print(\"CMY-Estimated\",cy_)"
   ]
  },
  {
   "cell_type": "markdown",
   "metadata": {},
   "source": [
    "As we can see, the estimated value correspond very well with the simulation."
   ]
  },
  {
   "cell_type": "code",
   "execution_count": null,
   "metadata": {},
   "outputs": [],
   "source": []
  },
  {
   "cell_type": "code",
   "execution_count": null,
   "metadata": {},
   "outputs": [],
   "source": []
  }
 ],
 "metadata": {
  "kernelspec": {
   "display_name": "Python 3 (ipykernel)",
   "language": "python",
   "name": "python3"
  },
  "language_info": {
   "codemirror_mode": {
    "name": "ipython",
    "version": 3
   },
   "file_extension": ".py",
   "mimetype": "text/x-python",
   "name": "python",
   "nbconvert_exporter": "python",
   "pygments_lexer": "ipython3",
   "version": "3.9.7"
  }
 },
 "nbformat": 4,
 "nbformat_minor": 1
}
